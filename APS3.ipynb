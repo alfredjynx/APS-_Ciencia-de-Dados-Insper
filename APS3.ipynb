{
 "cells": [
  {
   "cell_type": "markdown",
   "metadata": {},
   "source": [
    "## União Europeia\n",
    "\n",
    "\n",
    "\n",
    "    A União Europeia foi formada, em 1992, por meio do Tratado de Maastricht, acordo político-econômico assinado por 12 países europeus, buscando garantir a livre circulação de pessoas, mercadorias e serviços entre os países-membros, além de promover a adoção de uma moeda comum (Euro). Dessa maneira, o critério de de criaçao do bloco foi por proximidade geográfica, como evidente pelo próprio nome (União EUROPÉIA).\n",
    "\n",
    "    Seu início veio com a criação da Comunidade Europeia do Carvão e Aço (Bélgica, Luxemburgo, Países Baixos, França, Itália e Alemanha), mais uma vez mostrando um grande foco econômico do bloco. A Europa dos Doze se formou em 1986, com a entrada de Portugal após o Reino Unido, Irlanda, Dinamarca, Grécia e Espanha aderirem ao tratado anos antes. \n",
    "\n",
    "    Atualmente, seus membros são: Alemanha, Áustria, Bélgica, Bulgária, Chéquia, Chipre, Croácia, Dinamarca, Eslováquia, Eslovénia,Espanha, Estónia, Finlândia, França, Grécia, Hungria, Irlanda, Itália, Letónia, Lituânia, Luxemburgo, Malta, Países Baixos, Polónia, Portugal, Roménia, Suécia.\n",
    "\n",
    "\n",
    "###### fontes: \n",
    "###### - https://european-union.europa.eu/easy-read_pt\n",
    "###### - https://mundoeducacao.uol.com.br/geografia/uniao-europeia.htm\n",
    "###### - https://mundoeducacao.uol.com.br/historiageral/tratado-de-maastricht.htm\n"
   ]
  },
  {
   "cell_type": "markdown",
   "metadata": {},
   "source": [
    "## BRICS\n",
    "\n",
    "    BRIC, sigla de 'Brazil, Russia, India & China', foi um conceito criado pelo economista-chefe da Goldman-Sachs, Jim O'Neil. A união veio a partir de uma análise dos métodos econômico-financeiros, empresariais, acadêmicos e de comunicação dos países mencionados. \n",
    "\n",
    "    O peso econômico do bloco é a principal atração. Entre 2003 e 2007, o crescimento dos quatro países representou 65% da expansão do PIB mundial. Em 2010, o PIB conjunto dos cinco países (incluindo a África do Sul), totalizou US$ 11 trilhões, ou 18% da economia mundial. O bloco representa, de certa maneira, os países em mais rápida ascensão econômica. \n",
    "\n",
    "    Em 2011 a África do Sul passou a fazer parte do bloco, como outro potência emergente. Assim, BRIC virou BRICS ('Brazil, Russia, India, China & South Africa').\n",
    "\n",
    "    Os objetivos do bloco giram em torno da economia, segurança e cooperação. Em relação a economia, criaram o Novo Banco de Desenvolvimento do BRICS (NDB). Em relação a segurança, os países buscam tomar medidas contra os crimes transnacionais. Por fim, o BRICS tem ainda como objetivo estabelecer cooperação nas áreas técnica, científica, cultural e no setor acadêmico, aumentando ainda mais a evolução dos países envolvidos. \n",
    "\n",
    "###### fontes: \n",
    "###### - https://investidorsardinha.r7.com/aprender/o-que-e-brics/\n",
    "###### - https://www.ipea.gov.br/forumbrics/pt-BR/conheca-os-brics.html"
   ]
  },
  {
   "cell_type": "code",
   "execution_count": 3,
   "metadata": {},
   "outputs": [],
   "source": [
    "import pandas as pd\n",
    "import numpy as np\n",
    "\n",
    "# Path of the file to read\n",
    "df = pd.read_csv('data_blocos/dados.csv', sep=',')\n",
    "\n",
    "\n",
    "# drop coluns\n",
    "df.drop(['Series Code', 'Series Name', 'Country Code'], axis=1, inplace=True)"
   ]
  },
  {
   "cell_type": "code",
   "execution_count": 4,
   "metadata": {},
   "outputs": [
    {
     "data": {
      "text/plain": [
       "Country Name     object\n",
       "1990 [YR1990]    object\n",
       "2000 [YR2000]    object\n",
       "2011 [YR2011]    object\n",
       "2012 [YR2012]    object\n",
       "2013 [YR2013]    object\n",
       "2014 [YR2014]    object\n",
       "2015 [YR2015]    object\n",
       "2016 [YR2016]    object\n",
       "2017 [YR2017]    object\n",
       "2018 [YR2018]    object\n",
       "2019 [YR2019]    object\n",
       "2020 [YR2020]    object\n",
       "dtype: object"
      ]
     },
     "execution_count": 4,
     "metadata": {},
     "output_type": "execute_result"
    }
   ],
   "source": [
    "df.dtypes"
   ]
  },
  {
   "cell_type": "code",
   "execution_count": 5,
   "metadata": {},
   "outputs": [
    {
     "data": {
      "text/html": [
       "<div>\n",
       "<style scoped>\n",
       "    .dataframe tbody tr th:only-of-type {\n",
       "        vertical-align: middle;\n",
       "    }\n",
       "\n",
       "    .dataframe tbody tr th {\n",
       "        vertical-align: top;\n",
       "    }\n",
       "\n",
       "    .dataframe thead th {\n",
       "        text-align: right;\n",
       "    }\n",
       "</style>\n",
       "<table border=\"1\" class=\"dataframe\">\n",
       "  <thead>\n",
       "    <tr style=\"text-align: right;\">\n",
       "      <th>Country Name</th>\n",
       "      <th>World</th>\n",
       "      <th>Afghanistan</th>\n",
       "      <th>Albania</th>\n",
       "      <th>Algeria</th>\n",
       "      <th>American Samoa</th>\n",
       "      <th>Andorra</th>\n",
       "      <th>Angola</th>\n",
       "      <th>Antigua and Barbuda</th>\n",
       "      <th>Argentina</th>\n",
       "      <th>Armenia</th>\n",
       "      <th>...</th>\n",
       "      <th>Virgin Islands (U.S.)</th>\n",
       "      <th>West Bank and Gaza</th>\n",
       "      <th>Yemen, Rep.</th>\n",
       "      <th>Zambia</th>\n",
       "      <th>Zimbabwe</th>\n",
       "      <th>NaN</th>\n",
       "      <th>NaN</th>\n",
       "      <th>NaN</th>\n",
       "      <th>NaN</th>\n",
       "      <th>NaN</th>\n",
       "    </tr>\n",
       "  </thead>\n",
       "  <tbody>\n",
       "    <tr>\n",
       "      <th>1990 [YR1990]</th>\n",
       "      <td>..</td>\n",
       "      <td>..</td>\n",
       "      <td>..</td>\n",
       "      <td>..</td>\n",
       "      <td>..</td>\n",
       "      <td>..</td>\n",
       "      <td>..</td>\n",
       "      <td>..</td>\n",
       "      <td>..</td>\n",
       "      <td>..</td>\n",
       "      <td>...</td>\n",
       "      <td>..</td>\n",
       "      <td>..</td>\n",
       "      <td>..</td>\n",
       "      <td>..</td>\n",
       "      <td>..</td>\n",
       "      <td>NaN</td>\n",
       "      <td>NaN</td>\n",
       "      <td>NaN</td>\n",
       "      <td>NaN</td>\n",
       "      <td>NaN</td>\n",
       "    </tr>\n",
       "    <tr>\n",
       "      <th>2000 [YR2000]</th>\n",
       "      <td>..</td>\n",
       "      <td>..</td>\n",
       "      <td>..</td>\n",
       "      <td>..</td>\n",
       "      <td>..</td>\n",
       "      <td>..</td>\n",
       "      <td>..</td>\n",
       "      <td>..</td>\n",
       "      <td>..</td>\n",
       "      <td>..</td>\n",
       "      <td>...</td>\n",
       "      <td>..</td>\n",
       "      <td>..</td>\n",
       "      <td>..</td>\n",
       "      <td>..</td>\n",
       "      <td>..</td>\n",
       "      <td>NaN</td>\n",
       "      <td>NaN</td>\n",
       "      <td>NaN</td>\n",
       "      <td>NaN</td>\n",
       "      <td>NaN</td>\n",
       "    </tr>\n",
       "    <tr>\n",
       "      <th>2011 [YR2011]</th>\n",
       "      <td>..</td>\n",
       "      <td>..</td>\n",
       "      <td>..</td>\n",
       "      <td>..</td>\n",
       "      <td>..</td>\n",
       "      <td>..</td>\n",
       "      <td>..</td>\n",
       "      <td>..</td>\n",
       "      <td>..</td>\n",
       "      <td>..</td>\n",
       "      <td>...</td>\n",
       "      <td>..</td>\n",
       "      <td>..</td>\n",
       "      <td>..</td>\n",
       "      <td>..</td>\n",
       "      <td>..</td>\n",
       "      <td>NaN</td>\n",
       "      <td>NaN</td>\n",
       "      <td>NaN</td>\n",
       "      <td>NaN</td>\n",
       "      <td>NaN</td>\n",
       "    </tr>\n",
       "    <tr>\n",
       "      <th>2012 [YR2012]</th>\n",
       "      <td>..</td>\n",
       "      <td>..</td>\n",
       "      <td>..</td>\n",
       "      <td>..</td>\n",
       "      <td>..</td>\n",
       "      <td>..</td>\n",
       "      <td>..</td>\n",
       "      <td>..</td>\n",
       "      <td>..</td>\n",
       "      <td>..</td>\n",
       "      <td>...</td>\n",
       "      <td>..</td>\n",
       "      <td>..</td>\n",
       "      <td>..</td>\n",
       "      <td>..</td>\n",
       "      <td>..</td>\n",
       "      <td>NaN</td>\n",
       "      <td>NaN</td>\n",
       "      <td>NaN</td>\n",
       "      <td>NaN</td>\n",
       "      <td>NaN</td>\n",
       "    </tr>\n",
       "    <tr>\n",
       "      <th>2013 [YR2013]</th>\n",
       "      <td>..</td>\n",
       "      <td>..</td>\n",
       "      <td>..</td>\n",
       "      <td>..</td>\n",
       "      <td>..</td>\n",
       "      <td>..</td>\n",
       "      <td>..</td>\n",
       "      <td>..</td>\n",
       "      <td>..</td>\n",
       "      <td>..</td>\n",
       "      <td>...</td>\n",
       "      <td>..</td>\n",
       "      <td>..</td>\n",
       "      <td>..</td>\n",
       "      <td>..</td>\n",
       "      <td>..</td>\n",
       "      <td>NaN</td>\n",
       "      <td>NaN</td>\n",
       "      <td>NaN</td>\n",
       "      <td>NaN</td>\n",
       "      <td>NaN</td>\n",
       "    </tr>\n",
       "  </tbody>\n",
       "</table>\n",
       "<p>5 rows × 223 columns</p>\n",
       "</div>"
      ],
      "text/plain": [
       "Country Name  World Afghanistan Albania Algeria American Samoa Andorra Angola  \\\n",
       "1990 [YR1990]    ..          ..      ..      ..             ..      ..     ..   \n",
       "2000 [YR2000]    ..          ..      ..      ..             ..      ..     ..   \n",
       "2011 [YR2011]    ..          ..      ..      ..             ..      ..     ..   \n",
       "2012 [YR2012]    ..          ..      ..      ..             ..      ..     ..   \n",
       "2013 [YR2013]    ..          ..      ..      ..             ..      ..     ..   \n",
       "\n",
       "Country Name  Antigua and Barbuda Argentina Armenia  ...  \\\n",
       "1990 [YR1990]                  ..        ..      ..  ...   \n",
       "2000 [YR2000]                  ..        ..      ..  ...   \n",
       "2011 [YR2011]                  ..        ..      ..  ...   \n",
       "2012 [YR2012]                  ..        ..      ..  ...   \n",
       "2013 [YR2013]                  ..        ..      ..  ...   \n",
       "\n",
       "Country Name  Virgin Islands (U.S.) West Bank and Gaza Yemen, Rep. Zambia  \\\n",
       "1990 [YR1990]                    ..                 ..          ..     ..   \n",
       "2000 [YR2000]                    ..                 ..          ..     ..   \n",
       "2011 [YR2011]                    ..                 ..          ..     ..   \n",
       "2012 [YR2012]                    ..                 ..          ..     ..   \n",
       "2013 [YR2013]                    ..                 ..          ..     ..   \n",
       "\n",
       "Country Name  Zimbabwe  NaN  NaN  NaN  NaN  NaN  \n",
       "1990 [YR1990]       ..  NaN  NaN  NaN  NaN  NaN  \n",
       "2000 [YR2000]       ..  NaN  NaN  NaN  NaN  NaN  \n",
       "2011 [YR2011]       ..  NaN  NaN  NaN  NaN  NaN  \n",
       "2012 [YR2012]       ..  NaN  NaN  NaN  NaN  NaN  \n",
       "2013 [YR2013]       ..  NaN  NaN  NaN  NaN  NaN  \n",
       "\n",
       "[5 rows x 223 columns]"
      ]
     },
     "execution_count": 5,
     "metadata": {},
     "output_type": "execute_result"
    }
   ],
   "source": [
    "df.set_index('Country Name', inplace=True)\n",
    "df = df.T\n",
    "df.head()"
   ]
  },
  {
   "cell_type": "code",
   "execution_count": 6,
   "metadata": {},
   "outputs": [
    {
     "data": {
      "text/plain": [
       "'27.6'"
      ]
     },
     "execution_count": 6,
     "metadata": {},
     "output_type": "execute_result"
    }
   ],
   "source": [
    "# ex2\n",
    "df.loc['2019 [YR2019]'][\"World\"]"
   ]
  },
  {
   "cell_type": "markdown",
   "metadata": {},
   "source": [
    "O critério que utilizamos para decidir se um país é avançado ou não com relação a ao indicador (% da população de um país em situação de severa ou grave insegurança alimentar) é: se o país possui uma % menor que a média globa, ele será claassificado como avançado, caso contrário, atrasado. Portanto:\n",
    "\n",
    ">     \n",
    "> &nbsp;  \n",
    "> ##### % da população de um país em situação de severa ou grave insegurança alimentar >= 27.6% -> atrasado  \n",
    ">    \n",
    "> ##### % da população de um país em situação de severa ou grave insegurança alimentar < 27.6% -> Avançado  \n",
    "> &nbsp;"
   ]
  },
  {
   "cell_type": "code",
   "execution_count": 7,
   "metadata": {},
   "outputs": [
    {
     "name": "stdout",
     "output_type": "stream",
     "text": [
      "\n",
      "    Germany: 3.4 \n",
      "    Austria: 3\n",
      "    Belgium: 3.7\n",
      "    Bulgaria: 13.2\n",
      "    Czech Republic: 4.2\n",
      "    Cyprus: ..\n",
      "    Croatia: 11\n",
      "    Denmark: 5\n",
      "    Slovak Republic: 6\n",
      "    Slovenia: 8.2\n",
      "    Spain: 8.8\n",
      "    Estonia: 7.9\n",
      "    Finland: 8\n",
      "    France: 5.8\n",
      "    Greece: 8.6\n",
      "    Hungary: 8.6\n",
      "    Ireland: 8.3\n",
      "    Italy: 6.7\n",
      "    Latvia: 10.2\n",
      "    Lithuania: 11.3\n",
      "    Luxembourg: 3.1\n",
      "    Malta: 4.3\n",
      "    Netherlands: 4.7\n",
      "    Poland: 5.8\n",
      "    Portugal: 11.5\n",
      "    Romania: 13.9\n",
      "    Sweden: 5.3\n",
      "    \n"
     ]
    }
   ],
   "source": [
    "# ex2\n",
    "print(\n",
    "    f'''\n",
    "    Germany: {df.loc['2019 [YR2019]'][\"Germany\"]} \n",
    "    Austria: {df.loc['2019 [YR2019]'][\"Austria\"]}\n",
    "    Belgium: {df.loc['2019 [YR2019]'][\"Belgium\"]}\n",
    "    Bulgaria: {df.loc['2019 [YR2019]'][\"Bulgaria\"]}\n",
    "    Czech Republic: {df.loc['2019 [YR2019]'][\"Czech Republic\"]}\n",
    "    Cyprus: {df.loc['2019 [YR2019]'][\"Cyprus\"]}\n",
    "    Croatia: {df.loc['2019 [YR2019]'][\"Croatia\"]}\n",
    "    Denmark: {df.loc['2019 [YR2019]'][\"Denmark\"]}\n",
    "    Slovak Republic: {df.loc['2019 [YR2019]'][\"Slovak Republic\"]}\n",
    "    Slovenia: {df.loc['2019 [YR2019]'][\"Slovenia\"]}\n",
    "    Spain: {df.loc['2019 [YR2019]'][\"Spain\"]}\n",
    "    Estonia: {df.loc['2019 [YR2019]'][\"Estonia\"]}\n",
    "    Finland: {df.loc['2019 [YR2019]'][\"Finland\"]}\n",
    "    France: {df.loc['2019 [YR2019]'][\"France\"]}\n",
    "    Greece: {df.loc['2019 [YR2019]'][\"Greece\"]}\n",
    "    Hungary: {df.loc['2019 [YR2019]'][\"Hungary\"]}\n",
    "    Ireland: {df.loc['2019 [YR2019]'][\"Ireland\"]}\n",
    "    Italy: {df.loc['2019 [YR2019]'][\"Italy\"]}\n",
    "    Latvia: {df.loc['2019 [YR2019]'][\"Latvia\"]}\n",
    "    Lithuania: {df.loc['2019 [YR2019]'][\"Lithuania\"]}\n",
    "    Luxembourg: {df.loc['2019 [YR2019]'][\"Luxembourg\"]}\n",
    "    Malta: {df.loc['2019 [YR2019]'][\"Malta\"]}\n",
    "    Netherlands: {df.loc['2019 [YR2019]'][\"Netherlands\"]}\n",
    "    Poland: {df.loc['2019 [YR2019]'][\"Poland\"]}\n",
    "    Portugal: {df.loc['2019 [YR2019]'][\"Portugal\"]}\n",
    "    Romania: {df.loc['2019 [YR2019]'][\"Romania\"]}\n",
    "    Sweden: {df.loc['2019 [YR2019]'][\"Sweden\"]}\n",
    "    '''\n",
    ")"
   ]
  },
  {
   "cell_type": "markdown",
   "metadata": {},
   "source": [
    "Todos os países da união europeia são avançados, exceto o Chipre, que não possui dados suficientes para ser classificado."
   ]
  },
  {
   "cell_type": "code",
   "execution_count": 8,
   "metadata": {},
   "outputs": [
    {
     "name": "stdout",
     "output_type": "stream",
     "text": [
      "\n",
      "    Brazil: 23.5\n",
      "    Russia: 6\n",
      "    India: ..\n",
      "    China: ..\n",
      "    South Africa: 44.9\n",
      "    \n"
     ]
    }
   ],
   "source": [
    "# ex2\n",
    "print(\n",
    "    f'''\n",
    "    Brazil: {df.loc['2019 [YR2019]'][\"Brazil\"]}\n",
    "    Russia: {df.loc['2019 [YR2019]'][\"Russian Federation\"]}\n",
    "    India: {df.loc['2019 [YR2019]'][\"India\"]}\n",
    "    China: {df.loc['2019 [YR2019]'][\"China\"]}\n",
    "    South Africa: {df.loc['2019 [YR2019]'][\"South Africa\"]}\n",
    "    '''\n",
    ")"
   ]
  },
  {
   "cell_type": "markdown",
   "metadata": {},
   "source": [
    "Somente a Russia é avançada com relação a esse indicador no BRICS. A China, a India não puderam ser calculados por falta de dados."
   ]
  },
  {
   "cell_type": "code",
   "execution_count": 9,
   "metadata": {},
   "outputs": [
    {
     "name": "stdout",
     "output_type": "stream",
     "text": [
      "A probabilidade de um país da União Europeia ser avançado é: 96.30%\n"
     ]
    }
   ],
   "source": [
    "# ex3\n",
    "uniao_europeia = ['Germany', 'Austria', 'Belgium', 'Bulgaria', 'Czech Republic', 'Cyprus', 'Croatia', 'Denmark', 'Slovak Republic', 'Slovenia', 'Spain', 'Estonia', 'Finland', 'France', 'Greece', 'Hungary', 'Ireland', 'Italy', 'Latvia', 'Lithuania', 'Luxembourg', 'Malta', 'Netherlands', 'Poland', 'Portugal', 'Romania', 'Sweden']\n",
    "\n",
    "total = len(uniao_europeia)\n",
    "avancado = 0\n",
    "\n",
    "media_mundial = float(df.loc['2019 [YR2019]'][\"World\"])\n",
    "\n",
    "avancados_uniao_europeia = []\n",
    "\n",
    "for pais in uniao_europeia:\n",
    "    if df.loc['2019 [YR2019]'][pais] != '..':\n",
    "        if float(df.loc['2019 [YR2019]'][pais]) <= media_mundial:\n",
    "            avancado +=1\n",
    "            avancados_uniao_europeia.append(pais)\n",
    "\n",
    "p_avancado_uniao_europeia = (avancado/total)\n",
    "\n",
    "print(f'A probabilidade de um país da União Europeia ser avançado é: {p_avancado_uniao_europeia*100:.2f}%')\n"
   ]
  },
  {
   "cell_type": "code",
   "execution_count": 10,
   "metadata": {},
   "outputs": [
    {
     "name": "stdout",
     "output_type": "stream",
     "text": [
      "A probabilidade de um país dos BRICS ser avançado é: 40.00%\n"
     ]
    }
   ],
   "source": [
    "# ex3\n",
    "BRICS = ['Brazil', 'Russian Federation', 'India', 'China', 'South Africa']\n",
    "\n",
    "total = len(BRICS)\n",
    "avancado = 0\n",
    "avancados_BRICS = []\n",
    "\n",
    "for pais in BRICS:\n",
    "    if df.loc['2019 [YR2019]'][pais] != '..':\n",
    "        if float(df.loc['2019 [YR2019]'][pais]) <= media_mundial:\n",
    "            avancado +=1\n",
    "            avancados_BRICS.append(pais)\n",
    "\n",
    "p_avancado_brics = (avancado/total)\n",
    "print(f'A probabilidade de um país dos BRICS ser avançado é: {p_avancado_brics*100:.2f}%')"
   ]
  },
  {
   "cell_type": "code",
   "execution_count": 11,
   "metadata": {},
   "outputs": [
    {
     "name": "stdout",
     "output_type": "stream",
     "text": [
      "\n",
      "A probabilidade de um país pertencer a união europeia é: 12.11%.\n",
      "A probabilidade de um país pertencer aos BRICS é 2.24%.\n",
      "\n"
     ]
    }
   ],
   "source": [
    "#ex4\n",
    "prob_ser_uniao_europeia = len(uniao_europeia)/len(df.loc['2019 [YR2019]']) # p(bloco ue)\n",
    "prob_ser_BRICS = len(BRICS)/len(df.loc['2019 [YR2019]']) # p(bloco brics)\n",
    "\n",
    "print(f'''\n",
    "A probabilidade de um país pertencer a união europeia é: {prob_ser_uniao_europeia*100:.2f}%.\n",
    "A probabilidade de um país pertencer aos BRICS é {prob_ser_BRICS*100:.2f}%.\n",
    "''')"
   ]
  },
  {
   "cell_type": "code",
   "execution_count": 12,
   "metadata": {},
   "outputs": [
    {
     "name": "stdout",
     "output_type": "stream",
     "text": [
      "A probabilidade de um país ser avançado é: 31.39% \n"
     ]
    }
   ],
   "source": [
    "avancado_geral = 0\n",
    "for pais in df.loc['2019 [YR2019]']:\n",
    "    if pais != '..':\n",
    "        if float(pais) <= media_mundial:\n",
    "            avancado_geral +=1\n",
    "\n",
    "ser_avancado = avancado_geral/len(df.loc['2019 [YR2019]']) # p(avancado)\n",
    "print(f'''A probabilidade de um país ser avançado é: {ser_avancado*100:.2f}% ''')\n"
   ]
  },
  {
   "cell_type": "code",
   "execution_count": 13,
   "metadata": {},
   "outputs": [
    {
     "name": "stdout",
     "output_type": "stream",
     "text": [
      "\n",
      "A probabilidade de um país pertencer a união europeia, dado que ele é avançado com relação ao indicador é: 37.14%\n",
      "A probabilidade de um país pertencer aos BRICS, dado que ele é avançado com relação ao indicador é: 2.86%\n"
     ]
    }
   ],
   "source": [
    "p_uniao_europeia_avancado = (p_avancado_uniao_europeia * prob_ser_uniao_europeia)/ser_avancado\n",
    "p_BRICS_avancado = (p_avancado_brics * prob_ser_BRICS)/ser_avancado\n",
    "\n",
    "print(f'''\n",
    "A probabilidade de um país pertencer a união europeia, dado que ele é avançado com relação ao indicador é: {p_uniao_europeia_avancado*100:.2f}%\n",
    "A probabilidade de um país pertencer aos BRICS, dado que ele é avançado com relação ao indicador é: {p_BRICS_avancado*100:.2f}%''')"
   ]
  },
  {
   "cell_type": "markdown",
   "metadata": {},
   "source": [
    "O indicador escolhido não é um bom preditor para o pertenciamento a um bloco uma vez que as probabilidades encontradas na análise são baixas."
   ]
  },
  {
   "cell_type": "code",
   "execution_count": 14,
   "metadata": {},
   "outputs": [
    {
     "name": "stdout",
     "output_type": "stream",
     "text": [
      "A probabilidade de esse pais fazer parte da uniao europeia é:  0.3714285714285714\n",
      "A probabilidade de esse pais fazer parte dos BRICS é:  0.02857142857142857\n"
     ]
    }
   ],
   "source": [
    "# sistema classificador\n",
    "\n",
    "pais_eh_avancado = True\n",
    "\n",
    "if pais_eh_avancado:\n",
    "    print(\"A probabilidade de esse pais fazer parte da uniao europeia é: \" , p_uniao_europeia_avancado)\n",
    "    print(\"A probabilidade de esse pais fazer parte dos BRICS é: \" , p_BRICS_avancado)\n",
    "    \n",
    "else:\n",
    "    print(\"A probabilidade de esse pais fazer parte da uniao europeia é: \" , 1- p_uniao_europeia_avancado)\n",
    "    print(\"A probabilidade de esse pais fazer parte dos BRICS é: \" , 1 - p_BRICS_avancado)\n",
    "\n"
   ]
  },
  {
   "cell_type": "code",
   "execution_count": 15,
   "metadata": {},
   "outputs": [
    {
     "data": {
      "text/plain": [
       "<matplotlib.legend.Legend at 0x115be5db0>"
      ]
     },
     "execution_count": 15,
     "metadata": {},
     "output_type": "execute_result"
    },
    {
     "data": {
      "image/png": "[encoded data removed]",
      "text/plain": [
       "<Figure size 1440x720 with 1 Axes>"
      ]
     },
     "metadata": {
      "needs_background": "light"
     },
     "output_type": "display_data"
    }
   ],
   "source": [
    "# plot the data of europea union\n",
    "import matplotlib.pyplot as plt\n",
    "\n",
    "df2 = df.loc['2019 [YR2019]']\n",
    "df2.replace('..', np.nan, inplace=True)\n",
    "df2 = df2.dropna()\n",
    "\n",
    "# remove países que nao tem dados\n",
    "\n",
    "uniao_europeia.remove('Cyprus')\n",
    "BRICS.remove('India')\n",
    "BRICS.remove('China')\n",
    "\n",
    "plt.figure(figsize=(20,10))\n",
    "plt.hist(df2[uniao_europeia].astype(float), bins=7)\n",
    "plt.hist(df2[BRICS].astype(float), bins=7)\n",
    "plt.title('Países da União Europeia tem menos pessoas em situação de insegurança alimentar do que os países dos BRICS')\n",
    "plt.xlabel('% de população em situação de moderada ou severa insegurança alimentar')\n",
    "plt.ylabel('# de países')\n",
    "plt.legend(['União Europeia', 'BRICS'])"
   ]
  },
  {
   "cell_type": "markdown",
   "metadata": {},
   "source": [
    "### Correção de erros:"
   ]
  },
  {
   "cell_type": "code",
   "execution_count": 16,
   "metadata": {},
   "outputs": [],
   "source": [
    "# sistema classificador\n",
    "def classificador(eh_avancado):\n",
    "    if eh_avancado:\n",
    "        return \"UE\"\n",
    "    else:\n",
    "        return \"BRICS\""
   ]
  },
  {
   "cell_type": "code",
   "execution_count": 17,
   "metadata": {},
   "outputs": [
    {
     "name": "stdout",
     "output_type": "stream",
     "text": [
      "\n",
      "Acertos: 27\n",
      "Erros: 2\n",
      "Taxa de acerto: 93.10%\n"
     ]
    }
   ],
   "source": [
    "# Testar modelo\n",
    "\n",
    "media_mundial = float(df.loc['2019 [YR2019]'][\"World\"])\n",
    "\n",
    "erros = 0\n",
    "acertos = 0\n",
    "\n",
    "for pais in BRICS:\n",
    "    if df.loc['2019 [YR2019]'][pais] != '..':\n",
    "        pais_eh_avancado =  float(df.loc['2019 [YR2019]'][pais]) <= media_mundial\n",
    "        classificacao = classificador(pais_eh_avancado)\n",
    "        if classificacao == \"BRICS\":\n",
    "            acertos +=1\n",
    "        else:\n",
    "            erros +=1    \n",
    "        \n",
    "for pais in uniao_europeia:\n",
    "    if df.loc['2019 [YR2019]'][pais] != '..':\n",
    "        pais_eh_avancado =  float(df.loc['2019 [YR2019]'][pais]) <= media_mundial\n",
    "        classificacao = classificador(pais_eh_avancado)\n",
    "        if classificacao == \"UE\":\n",
    "            acertos +=1\n",
    "        else:\n",
    "            erros +=1\n",
    "\n",
    "print(f'''\n",
    "Acertos: {acertos}\n",
    "Erros: {erros}\n",
    "Taxa de acerto: {acertos/(acertos+erros)*100:.2f}%''')\n",
    "\n"
   ]
  }
 ],
 "metadata": {
  "kernelspec": {
   "display_name": "Python 3.10.0 64-bit",
   "language": "python",
   "name": "python3"
  },
  "language_info": {
   "codemirror_mode": {
    "name": "ipython",
    "version": 3
   },
   "file_extension": ".py",
   "mimetype": "text/x-python",
   "name": "python",
   "nbconvert_exporter": "python",
   "pygments_lexer": "ipython3",
   "version": "3.10.0"
  },
  "orig_nbformat": 4,
  "vscode": {
   "interpreter": {
    "hash": "aee8b7b246df8f9039afb4144a1f6fd8d2ca17a180786b69acc140d282b71a49"
   }
  }
 },
 "nbformat": 4,
 "nbformat_minor": 2
}
