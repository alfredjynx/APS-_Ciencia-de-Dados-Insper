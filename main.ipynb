{
 "cells": [
  {
   "cell_type": "markdown",
   "metadata": {},
   "source": [
    "\n",
    "# Fome Zero e Agricultura Sustentável - Insegurança Alimentar\n",
    "\n",
    "\n",
    "\n",
    "###### por: Marcelo Marchetto e João Alfredo Lamy\n",
    "\n",
    "O Objetivo de desenvolvimento sustentável escolhido para essa APS foi o número 2, fome zero e agricultura sustentável. Optamos por esse tema por causa da sua enorme relevância diante da diminuição da produção de trigo, graças à guerra da Ucrânia.\n",
    "\n",
    "Além dessa situação atual, ainda há um grande número de pessoas que sofrem com falta de alimentos. O problema vem sendo amenizado conforme novos avanços tecnológicos vêm sendo descobertos. O mais importante foi o desenvolvimento de adubos nitrogenados no início do século XX.\n",
    "\n",
    "O indicador escolhido para mostrar um pouco dessa realidade foi a porcentagem de habitantes do país que vivem em situação de moderada ou extrema insegurança alimentar. Essa insegurança é a falta de acesso a alimentos em quantidade e qualidade adequadas. Comparamos dados do Brasil, da Noruega e da Nigéria, a fim de ver se a insegurança alimentar tem ou não diminuído com o passar dos anos. \n"
   ]
  },
  {
   "cell_type": "code",
   "execution_count": 299,
   "metadata": {},
   "outputs": [
    {
     "data": {
      "text/html": [
       "<div>\n",
       "<style scoped>\n",
       "    .dataframe tbody tr th:only-of-type {\n",
       "        vertical-align: middle;\n",
       "    }\n",
       "\n",
       "    .dataframe tbody tr th {\n",
       "        vertical-align: top;\n",
       "    }\n",
       "\n",
       "    .dataframe thead th {\n",
       "        text-align: right;\n",
       "    }\n",
       "</style>\n",
       "<table border=\"1\" class=\"dataframe\">\n",
       "  <thead>\n",
       "    <tr style=\"text-align: right;\">\n",
       "      <th></th>\n",
       "      <th>Country Name</th>\n",
       "      <th>Country Code</th>\n",
       "      <th>Series Name</th>\n",
       "      <th>Series Code</th>\n",
       "      <th>1990 [YR1990]</th>\n",
       "      <th>1991 [YR1991]</th>\n",
       "      <th>1992 [YR1992]</th>\n",
       "      <th>1993 [YR1993]</th>\n",
       "      <th>1994 [YR1994]</th>\n",
       "      <th>1995 [YR1995]</th>\n",
       "      <th>...</th>\n",
       "      <th>2011 [YR2011]</th>\n",
       "      <th>2012 [YR2012]</th>\n",
       "      <th>2013 [YR2013]</th>\n",
       "      <th>2014 [YR2014]</th>\n",
       "      <th>2015 [YR2015]</th>\n",
       "      <th>2016 [YR2016]</th>\n",
       "      <th>2017 [YR2017]</th>\n",
       "      <th>2018 [YR2018]</th>\n",
       "      <th>2019 [YR2019]</th>\n",
       "      <th>2020 [YR2020]</th>\n",
       "    </tr>\n",
       "  </thead>\n",
       "  <tbody>\n",
       "    <tr>\n",
       "      <th>0</th>\n",
       "      <td>Brazil</td>\n",
       "      <td>BRA</td>\n",
       "      <td>Prevalence of moderate or severe food insecuri...</td>\n",
       "      <td>SN.ITK.MSFI.ZS</td>\n",
       "      <td>..</td>\n",
       "      <td>..</td>\n",
       "      <td>..</td>\n",
       "      <td>..</td>\n",
       "      <td>..</td>\n",
       "      <td>..</td>\n",
       "      <td>...</td>\n",
       "      <td>..</td>\n",
       "      <td>..</td>\n",
       "      <td>..</td>\n",
       "      <td>..</td>\n",
       "      <td>18.3</td>\n",
       "      <td>21.5</td>\n",
       "      <td>21.8</td>\n",
       "      <td>20.6</td>\n",
       "      <td>23.5</td>\n",
       "      <td>..</td>\n",
       "    </tr>\n",
       "    <tr>\n",
       "      <th>1</th>\n",
       "      <td>Nigeria</td>\n",
       "      <td>NGA</td>\n",
       "      <td>Prevalence of moderate or severe food insecuri...</td>\n",
       "      <td>SN.ITK.MSFI.ZS</td>\n",
       "      <td>..</td>\n",
       "      <td>..</td>\n",
       "      <td>..</td>\n",
       "      <td>..</td>\n",
       "      <td>..</td>\n",
       "      <td>..</td>\n",
       "      <td>...</td>\n",
       "      <td>..</td>\n",
       "      <td>..</td>\n",
       "      <td>..</td>\n",
       "      <td>..</td>\n",
       "      <td>36.5</td>\n",
       "      <td>40.1</td>\n",
       "      <td>43.6</td>\n",
       "      <td>47.1</td>\n",
       "      <td>57.7</td>\n",
       "      <td>..</td>\n",
       "    </tr>\n",
       "    <tr>\n",
       "      <th>2</th>\n",
       "      <td>Norway</td>\n",
       "      <td>NOR</td>\n",
       "      <td>Prevalence of moderate or severe food insecuri...</td>\n",
       "      <td>SN.ITK.MSFI.ZS</td>\n",
       "      <td>..</td>\n",
       "      <td>..</td>\n",
       "      <td>..</td>\n",
       "      <td>..</td>\n",
       "      <td>..</td>\n",
       "      <td>..</td>\n",
       "      <td>...</td>\n",
       "      <td>..</td>\n",
       "      <td>..</td>\n",
       "      <td>..</td>\n",
       "      <td>..</td>\n",
       "      <td>4.8</td>\n",
       "      <td>5.0</td>\n",
       "      <td>4.8</td>\n",
       "      <td>4.8</td>\n",
       "      <td>4.1</td>\n",
       "      <td>..</td>\n",
       "    </tr>\n",
       "  </tbody>\n",
       "</table>\n",
       "<p>3 rows × 35 columns</p>\n",
       "</div>"
      ],
      "text/plain": [
       "  Country Name Country Code  \\\n",
       "0       Brazil          BRA   \n",
       "1      Nigeria          NGA   \n",
       "2       Norway          NOR   \n",
       "\n",
       "                                         Series Name     Series Code  \\\n",
       "0  Prevalence of moderate or severe food insecuri...  SN.ITK.MSFI.ZS   \n",
       "1  Prevalence of moderate or severe food insecuri...  SN.ITK.MSFI.ZS   \n",
       "2  Prevalence of moderate or severe food insecuri...  SN.ITK.MSFI.ZS   \n",
       "\n",
       "  1990 [YR1990] 1991 [YR1991] 1992 [YR1992] 1993 [YR1993] 1994 [YR1994]  \\\n",
       "0            ..            ..            ..            ..            ..   \n",
       "1            ..            ..            ..            ..            ..   \n",
       "2            ..            ..            ..            ..            ..   \n",
       "\n",
       "  1995 [YR1995]  ... 2011 [YR2011] 2012 [YR2012] 2013 [YR2013] 2014 [YR2014]  \\\n",
       "0            ..  ...            ..            ..            ..            ..   \n",
       "1            ..  ...            ..            ..            ..            ..   \n",
       "2            ..  ...            ..            ..            ..            ..   \n",
       "\n",
       "  2015 [YR2015] 2016 [YR2016] 2017 [YR2017] 2018 [YR2018] 2019 [YR2019]  \\\n",
       "0          18.3          21.5          21.8          20.6          23.5   \n",
       "1          36.5          40.1          43.6          47.1          57.7   \n",
       "2           4.8           5.0           4.8           4.8           4.1   \n",
       "\n",
       "  2020 [YR2020]  \n",
       "0            ..  \n",
       "1            ..  \n",
       "2            ..  \n",
       "\n",
       "[3 rows x 35 columns]"
      ]
     },
     "execution_count": 299,
     "metadata": {},
     "output_type": "execute_result"
    }
   ],
   "source": [
    "import pandas as pd\n",
    "import matplotlib.pyplot as plt\n",
    "\n",
    "# Le os dados\n",
    "df = pd.read_csv('data/data.csv')\n",
    "df.head()"
   ]
  },
  {
   "cell_type": "code",
   "execution_count": 300,
   "metadata": {},
   "outputs": [
    {
     "data": {
      "text/html": [
       "<div>\n",
       "<style scoped>\n",
       "    .dataframe tbody tr th:only-of-type {\n",
       "        vertical-align: middle;\n",
       "    }\n",
       "\n",
       "    .dataframe tbody tr th {\n",
       "        vertical-align: top;\n",
       "    }\n",
       "\n",
       "    .dataframe thead th {\n",
       "        text-align: right;\n",
       "    }\n",
       "</style>\n",
       "<table border=\"1\" class=\"dataframe\">\n",
       "  <thead>\n",
       "    <tr style=\"text-align: right;\">\n",
       "      <th></th>\n",
       "      <th>Country Name</th>\n",
       "      <th>Country Code</th>\n",
       "      <th>Series Name</th>\n",
       "      <th>Series Code</th>\n",
       "      <th>2015 [YR2015]</th>\n",
       "      <th>2016 [YR2016]</th>\n",
       "      <th>2017 [YR2017]</th>\n",
       "      <th>2018 [YR2018]</th>\n",
       "      <th>2019 [YR2019]</th>\n",
       "    </tr>\n",
       "  </thead>\n",
       "  <tbody>\n",
       "    <tr>\n",
       "      <th>0</th>\n",
       "      <td>Brazil</td>\n",
       "      <td>BRA</td>\n",
       "      <td>Prevalence of moderate or severe food insecuri...</td>\n",
       "      <td>SN.ITK.MSFI.ZS</td>\n",
       "      <td>18.3</td>\n",
       "      <td>21.5</td>\n",
       "      <td>21.8</td>\n",
       "      <td>20.6</td>\n",
       "      <td>23.5</td>\n",
       "    </tr>\n",
       "    <tr>\n",
       "      <th>1</th>\n",
       "      <td>Nigeria</td>\n",
       "      <td>NGA</td>\n",
       "      <td>Prevalence of moderate or severe food insecuri...</td>\n",
       "      <td>SN.ITK.MSFI.ZS</td>\n",
       "      <td>36.5</td>\n",
       "      <td>40.1</td>\n",
       "      <td>43.6</td>\n",
       "      <td>47.1</td>\n",
       "      <td>57.7</td>\n",
       "    </tr>\n",
       "    <tr>\n",
       "      <th>2</th>\n",
       "      <td>Norway</td>\n",
       "      <td>NOR</td>\n",
       "      <td>Prevalence of moderate or severe food insecuri...</td>\n",
       "      <td>SN.ITK.MSFI.ZS</td>\n",
       "      <td>4.8</td>\n",
       "      <td>5.0</td>\n",
       "      <td>4.8</td>\n",
       "      <td>4.8</td>\n",
       "      <td>4.1</td>\n",
       "    </tr>\n",
       "  </tbody>\n",
       "</table>\n",
       "</div>"
      ],
      "text/plain": [
       "  Country Name Country Code  \\\n",
       "0       Brazil          BRA   \n",
       "1      Nigeria          NGA   \n",
       "2       Norway          NOR   \n",
       "\n",
       "                                         Series Name     Series Code  \\\n",
       "0  Prevalence of moderate or severe food insecuri...  SN.ITK.MSFI.ZS   \n",
       "1  Prevalence of moderate or severe food insecuri...  SN.ITK.MSFI.ZS   \n",
       "2  Prevalence of moderate or severe food insecuri...  SN.ITK.MSFI.ZS   \n",
       "\n",
       "   2015 [YR2015]  2016 [YR2016]  2017 [YR2017]  2018 [YR2018]  2019 [YR2019]  \n",
       "0           18.3           21.5           21.8           20.6           23.5  \n",
       "1           36.5           40.1           43.6           47.1           57.7  \n",
       "2            4.8            5.0            4.8            4.8            4.1  "
      ]
     },
     "execution_count": 300,
     "metadata": {},
     "output_type": "execute_result"
    }
   ],
   "source": [
    "# remove colunas sem valores\n",
    "df = df.loc[:, ~(df == '..').any()]\n",
    "df.head()"
   ]
  },
  {
   "cell_type": "code",
   "execution_count": 301,
   "metadata": {},
   "outputs": [
    {
     "data": {
      "image/png": "[encoded data removed]",
      "text/plain": [
       "<Figure size 432x288 with 1 Axes>"
      ]
     },
     "metadata": {
      "needs_background": "light"
     },
     "output_type": "display_data"
    }
   ],
   "source": [
    "linhas = df.values.tolist()\n",
    "dados_pais_inseg = [item[4:] for item in linhas]\n",
    "anos = list(range(2015, 2020))\n",
    "\n",
    "for i in dados_pais_inseg:\n",
    "    plt.plot(anos, i)\n",
    "\n",
    "plt.xticks(anos)\n",
    "plt.legend(df[\"Country Name\"])\n",
    "\n",
    "plt.title(\"Prevalência de moderada ou severa insegurança alimentar\")\n",
    "plt.xlabel(\"Anos\")\n",
    "plt.ylabel(\"Percentual da população (%)\")\n",
    "plt.show()\n"
   ]
  },
  {
   "cell_type": "markdown",
   "metadata": {},
   "source": [
    "# Correlações\n"
   ]
  },
  {
   "cell_type": "code",
   "execution_count": 302,
   "metadata": {},
   "outputs": [
    {
     "data": {
      "text/html": [
       "<div>\n",
       "<style scoped>\n",
       "    .dataframe tbody tr th:only-of-type {\n",
       "        vertical-align: middle;\n",
       "    }\n",
       "\n",
       "    .dataframe tbody tr th {\n",
       "        vertical-align: top;\n",
       "    }\n",
       "\n",
       "    .dataframe thead th {\n",
       "        text-align: right;\n",
       "    }\n",
       "</style>\n",
       "<table border=\"1\" class=\"dataframe\">\n",
       "  <thead>\n",
       "    <tr style=\"text-align: right;\">\n",
       "      <th></th>\n",
       "      <th>Country Name</th>\n",
       "      <th>Code</th>\n",
       "      <th>1960</th>\n",
       "      <th>1961</th>\n",
       "      <th>1962</th>\n",
       "      <th>1963</th>\n",
       "      <th>1964</th>\n",
       "      <th>1965</th>\n",
       "      <th>1966</th>\n",
       "      <th>1967</th>\n",
       "      <th>...</th>\n",
       "      <th>2012</th>\n",
       "      <th>2013</th>\n",
       "      <th>2014</th>\n",
       "      <th>2015</th>\n",
       "      <th>2016</th>\n",
       "      <th>2017</th>\n",
       "      <th>2018</th>\n",
       "      <th>2019</th>\n",
       "      <th>2020</th>\n",
       "      <th>Unnamed: 65</th>\n",
       "    </tr>\n",
       "  </thead>\n",
       "  <tbody>\n",
       "    <tr>\n",
       "      <th>0</th>\n",
       "      <td>Aruba</td>\n",
       "      <td>ABW</td>\n",
       "      <td>NaN</td>\n",
       "      <td>NaN</td>\n",
       "      <td>NaN</td>\n",
       "      <td>NaN</td>\n",
       "      <td>NaN</td>\n",
       "      <td>NaN</td>\n",
       "      <td>NaN</td>\n",
       "      <td>NaN</td>\n",
       "      <td>...</td>\n",
       "      <td>24712.493263</td>\n",
       "      <td>26441.619936</td>\n",
       "      <td>26893.011506</td>\n",
       "      <td>28396.908423</td>\n",
       "      <td>28452.170615</td>\n",
       "      <td>29350.805019</td>\n",
       "      <td>30253.279358</td>\n",
       "      <td>NaN</td>\n",
       "      <td>NaN</td>\n",
       "      <td>NaN</td>\n",
       "    </tr>\n",
       "    <tr>\n",
       "      <th>1</th>\n",
       "      <td>Africa Eastern and Southern</td>\n",
       "      <td>AFE</td>\n",
       "      <td>147.612227</td>\n",
       "      <td>147.014904</td>\n",
       "      <td>156.189192</td>\n",
       "      <td>182.243917</td>\n",
       "      <td>162.347592</td>\n",
       "      <td>180.214908</td>\n",
       "      <td>190.845484</td>\n",
       "      <td>192.337167</td>\n",
       "      <td>...</td>\n",
       "      <td>1736.166560</td>\n",
       "      <td>1713.899299</td>\n",
       "      <td>1703.596298</td>\n",
       "      <td>1549.037940</td>\n",
       "      <td>1431.778723</td>\n",
       "      <td>1573.063386</td>\n",
       "      <td>1574.978648</td>\n",
       "      <td>1530.059177</td>\n",
       "      <td>1359.618224</td>\n",
       "      <td>NaN</td>\n",
       "    </tr>\n",
       "    <tr>\n",
       "      <th>2</th>\n",
       "      <td>Afghanistan</td>\n",
       "      <td>AFG</td>\n",
       "      <td>59.773234</td>\n",
       "      <td>59.860900</td>\n",
       "      <td>58.458009</td>\n",
       "      <td>78.706429</td>\n",
       "      <td>82.095307</td>\n",
       "      <td>101.108325</td>\n",
       "      <td>137.594298</td>\n",
       "      <td>160.898434</td>\n",
       "      <td>...</td>\n",
       "      <td>638.845852</td>\n",
       "      <td>624.315455</td>\n",
       "      <td>614.223342</td>\n",
       "      <td>556.007221</td>\n",
       "      <td>512.012778</td>\n",
       "      <td>516.679862</td>\n",
       "      <td>485.668419</td>\n",
       "      <td>494.179350</td>\n",
       "      <td>516.747871</td>\n",
       "      <td>NaN</td>\n",
       "    </tr>\n",
       "    <tr>\n",
       "      <th>3</th>\n",
       "      <td>Africa Western and Central</td>\n",
       "      <td>AFW</td>\n",
       "      <td>107.932233</td>\n",
       "      <td>113.081647</td>\n",
       "      <td>118.831107</td>\n",
       "      <td>123.442888</td>\n",
       "      <td>131.854402</td>\n",
       "      <td>138.526332</td>\n",
       "      <td>144.326212</td>\n",
       "      <td>128.582470</td>\n",
       "      <td>...</td>\n",
       "      <td>1965.118485</td>\n",
       "      <td>2157.481149</td>\n",
       "      <td>2212.853135</td>\n",
       "      <td>1894.310195</td>\n",
       "      <td>1673.835527</td>\n",
       "      <td>1613.473553</td>\n",
       "      <td>1704.139603</td>\n",
       "      <td>1777.918672</td>\n",
       "      <td>1710.073363</td>\n",
       "      <td>NaN</td>\n",
       "    </tr>\n",
       "    <tr>\n",
       "      <th>4</th>\n",
       "      <td>Angola</td>\n",
       "      <td>AGO</td>\n",
       "      <td>NaN</td>\n",
       "      <td>NaN</td>\n",
       "      <td>NaN</td>\n",
       "      <td>NaN</td>\n",
       "      <td>NaN</td>\n",
       "      <td>NaN</td>\n",
       "      <td>NaN</td>\n",
       "      <td>NaN</td>\n",
       "      <td>...</td>\n",
       "      <td>5100.097027</td>\n",
       "      <td>5254.881126</td>\n",
       "      <td>5408.411700</td>\n",
       "      <td>4166.979833</td>\n",
       "      <td>3506.073128</td>\n",
       "      <td>4095.810057</td>\n",
       "      <td>3289.643995</td>\n",
       "      <td>2809.626088</td>\n",
       "      <td>1776.166868</td>\n",
       "      <td>NaN</td>\n",
       "    </tr>\n",
       "  </tbody>\n",
       "</table>\n",
       "<p>5 rows × 64 columns</p>\n",
       "</div>"
      ],
      "text/plain": [
       "                  Country Name Code        1960        1961        1962  \\\n",
       "0                        Aruba  ABW         NaN         NaN         NaN   \n",
       "1  Africa Eastern and Southern  AFE  147.612227  147.014904  156.189192   \n",
       "2                  Afghanistan  AFG   59.773234   59.860900   58.458009   \n",
       "3   Africa Western and Central  AFW  107.932233  113.081647  118.831107   \n",
       "4                       Angola  AGO         NaN         NaN         NaN   \n",
       "\n",
       "         1963        1964        1965        1966        1967  ...  \\\n",
       "0         NaN         NaN         NaN         NaN         NaN  ...   \n",
       "1  182.243917  162.347592  180.214908  190.845484  192.337167  ...   \n",
       "2   78.706429   82.095307  101.108325  137.594298  160.898434  ...   \n",
       "3  123.442888  131.854402  138.526332  144.326212  128.582470  ...   \n",
       "4         NaN         NaN         NaN         NaN         NaN  ...   \n",
       "\n",
       "           2012          2013          2014          2015          2016  \\\n",
       "0  24712.493263  26441.619936  26893.011506  28396.908423  28452.170615   \n",
       "1   1736.166560   1713.899299   1703.596298   1549.037940   1431.778723   \n",
       "2    638.845852    624.315455    614.223342    556.007221    512.012778   \n",
       "3   1965.118485   2157.481149   2212.853135   1894.310195   1673.835527   \n",
       "4   5100.097027   5254.881126   5408.411700   4166.979833   3506.073128   \n",
       "\n",
       "           2017          2018         2019         2020  Unnamed: 65  \n",
       "0  29350.805019  30253.279358          NaN          NaN          NaN  \n",
       "1   1573.063386   1574.978648  1530.059177  1359.618224          NaN  \n",
       "2    516.679862    485.668419   494.179350   516.747871          NaN  \n",
       "3   1613.473553   1704.139603  1777.918672  1710.073363          NaN  \n",
       "4   4095.810057   3289.643995  2809.626088  1776.166868          NaN  \n",
       "\n",
       "[5 rows x 64 columns]"
      ]
     },
     "execution_count": 302,
     "metadata": {},
     "output_type": "execute_result"
    }
   ],
   "source": [
    "\n",
    "import pandas as pd\n",
    "\n",
    "# Le os dados\n",
    "df = pd.read_csv('data/gdp_per_capita.csv')\n",
    "df.head()"
   ]
  },
  {
   "cell_type": "code",
   "execution_count": 303,
   "metadata": {},
   "outputs": [
    {
     "data": {
      "text/html": [
       "<div>\n",
       "<style scoped>\n",
       "    .dataframe tbody tr th:only-of-type {\n",
       "        vertical-align: middle;\n",
       "    }\n",
       "\n",
       "    .dataframe tbody tr th {\n",
       "        vertical-align: top;\n",
       "    }\n",
       "\n",
       "    .dataframe thead th {\n",
       "        text-align: right;\n",
       "    }\n",
       "</style>\n",
       "<table border=\"1\" class=\"dataframe\">\n",
       "  <thead>\n",
       "    <tr style=\"text-align: right;\">\n",
       "      <th></th>\n",
       "      <th>Country Name</th>\n",
       "      <th>Code</th>\n",
       "      <th>1960</th>\n",
       "      <th>1961</th>\n",
       "      <th>1962</th>\n",
       "      <th>1963</th>\n",
       "      <th>1964</th>\n",
       "      <th>1965</th>\n",
       "      <th>1966</th>\n",
       "      <th>1967</th>\n",
       "      <th>...</th>\n",
       "      <th>2012</th>\n",
       "      <th>2013</th>\n",
       "      <th>2014</th>\n",
       "      <th>2015</th>\n",
       "      <th>2016</th>\n",
       "      <th>2017</th>\n",
       "      <th>2018</th>\n",
       "      <th>2019</th>\n",
       "      <th>2020</th>\n",
       "      <th>Unnamed: 65</th>\n",
       "    </tr>\n",
       "  </thead>\n",
       "  <tbody>\n",
       "    <tr>\n",
       "      <th>29</th>\n",
       "      <td>Brazil</td>\n",
       "      <td>BRA</td>\n",
       "      <td>NaN</td>\n",
       "      <td>232.480546</td>\n",
       "      <td>251.348317</td>\n",
       "      <td>295.631971</td>\n",
       "      <td>258.605371</td>\n",
       "      <td>269.456290</td>\n",
       "      <td>330.040586</td>\n",
       "      <td>353.110711</td>\n",
       "      <td>...</td>\n",
       "      <td>12370.223255</td>\n",
       "      <td>12300.386712</td>\n",
       "      <td>12112.834955</td>\n",
       "      <td>8813.989806</td>\n",
       "      <td>8710.063290</td>\n",
       "      <td>9928.675897</td>\n",
       "      <td>9151.381732</td>\n",
       "      <td>8897.552966</td>\n",
       "      <td>6796.844542</td>\n",
       "      <td>NaN</td>\n",
       "    </tr>\n",
       "    <tr>\n",
       "      <th>174</th>\n",
       "      <td>Nigeria</td>\n",
       "      <td>NGA</td>\n",
       "      <td>92.960466</td>\n",
       "      <td>96.979030</td>\n",
       "      <td>104.387029</td>\n",
       "      <td>107.540573</td>\n",
       "      <td>113.168717</td>\n",
       "      <td>117.188635</td>\n",
       "      <td>124.307793</td>\n",
       "      <td>99.406079</td>\n",
       "      <td>...</td>\n",
       "      <td>2723.822191</td>\n",
       "      <td>2961.549422</td>\n",
       "      <td>3098.985791</td>\n",
       "      <td>2687.480056</td>\n",
       "      <td>2176.002772</td>\n",
       "      <td>1968.565398</td>\n",
       "      <td>2027.778549</td>\n",
       "      <td>2229.858652</td>\n",
       "      <td>2097.092473</td>\n",
       "      <td>NaN</td>\n",
       "    </tr>\n",
       "    <tr>\n",
       "      <th>177</th>\n",
       "      <td>Norway</td>\n",
       "      <td>NOR</td>\n",
       "      <td>1441.755660</td>\n",
       "      <td>1560.324931</td>\n",
       "      <td>1667.247430</td>\n",
       "      <td>1775.582655</td>\n",
       "      <td>1937.884614</td>\n",
       "      <td>2164.468823</td>\n",
       "      <td>2317.194884</td>\n",
       "      <td>2514.043772</td>\n",
       "      <td>...</td>\n",
       "      <td>101524.141852</td>\n",
       "      <td>102913.450844</td>\n",
       "      <td>97019.182753</td>\n",
       "      <td>74355.515858</td>\n",
       "      <td>70460.560532</td>\n",
       "      <td>75496.754058</td>\n",
       "      <td>82267.809316</td>\n",
       "      <td>75719.752897</td>\n",
       "      <td>67329.677791</td>\n",
       "      <td>NaN</td>\n",
       "    </tr>\n",
       "  </tbody>\n",
       "</table>\n",
       "<p>3 rows × 64 columns</p>\n",
       "</div>"
      ],
      "text/plain": [
       "    Country Name Code         1960         1961         1962         1963  \\\n",
       "29        Brazil  BRA          NaN   232.480546   251.348317   295.631971   \n",
       "174      Nigeria  NGA    92.960466    96.979030   104.387029   107.540573   \n",
       "177       Norway  NOR  1441.755660  1560.324931  1667.247430  1775.582655   \n",
       "\n",
       "            1964         1965         1966         1967  ...           2012  \\\n",
       "29    258.605371   269.456290   330.040586   353.110711  ...   12370.223255   \n",
       "174   113.168717   117.188635   124.307793    99.406079  ...    2723.822191   \n",
       "177  1937.884614  2164.468823  2317.194884  2514.043772  ...  101524.141852   \n",
       "\n",
       "              2013          2014          2015          2016          2017  \\\n",
       "29    12300.386712  12112.834955   8813.989806   8710.063290   9928.675897   \n",
       "174    2961.549422   3098.985791   2687.480056   2176.002772   1968.565398   \n",
       "177  102913.450844  97019.182753  74355.515858  70460.560532  75496.754058   \n",
       "\n",
       "             2018          2019          2020  Unnamed: 65  \n",
       "29    9151.381732   8897.552966   6796.844542          NaN  \n",
       "174   2027.778549   2229.858652   2097.092473          NaN  \n",
       "177  82267.809316  75719.752897  67329.677791          NaN  \n",
       "\n",
       "[3 rows x 64 columns]"
      ]
     },
     "execution_count": 303,
     "metadata": {},
     "output_type": "execute_result"
    }
   ],
   "source": [
    "\n",
    "df = df[df[\"Country Name\"].isin([\"Brazil\", \"Nigeria\", \"Norway\"])]\n",
    "df.head()"
   ]
  },
  {
   "cell_type": "code",
   "execution_count": 304,
   "metadata": {},
   "outputs": [
    {
     "data": {
      "text/html": [
       "<div>\n",
       "<style scoped>\n",
       "    .dataframe tbody tr th:only-of-type {\n",
       "        vertical-align: middle;\n",
       "    }\n",
       "\n",
       "    .dataframe tbody tr th {\n",
       "        vertical-align: top;\n",
       "    }\n",
       "\n",
       "    .dataframe thead th {\n",
       "        text-align: right;\n",
       "    }\n",
       "</style>\n",
       "<table border=\"1\" class=\"dataframe\">\n",
       "  <thead>\n",
       "    <tr style=\"text-align: right;\">\n",
       "      <th></th>\n",
       "      <th>Country Name</th>\n",
       "      <th>2015</th>\n",
       "      <th>2016</th>\n",
       "      <th>2017</th>\n",
       "      <th>2018</th>\n",
       "      <th>2019</th>\n",
       "    </tr>\n",
       "  </thead>\n",
       "  <tbody>\n",
       "    <tr>\n",
       "      <th>29</th>\n",
       "      <td>Brazil</td>\n",
       "      <td>8813.989806</td>\n",
       "      <td>8710.063290</td>\n",
       "      <td>9928.675897</td>\n",
       "      <td>9151.381732</td>\n",
       "      <td>8897.552966</td>\n",
       "    </tr>\n",
       "    <tr>\n",
       "      <th>174</th>\n",
       "      <td>Nigeria</td>\n",
       "      <td>2687.480056</td>\n",
       "      <td>2176.002772</td>\n",
       "      <td>1968.565398</td>\n",
       "      <td>2027.778549</td>\n",
       "      <td>2229.858652</td>\n",
       "    </tr>\n",
       "    <tr>\n",
       "      <th>177</th>\n",
       "      <td>Norway</td>\n",
       "      <td>74355.515858</td>\n",
       "      <td>70460.560532</td>\n",
       "      <td>75496.754058</td>\n",
       "      <td>82267.809316</td>\n",
       "      <td>75719.752897</td>\n",
       "    </tr>\n",
       "  </tbody>\n",
       "</table>\n",
       "</div>"
      ],
      "text/plain": [
       "    Country Name          2015          2016          2017          2018  \\\n",
       "29        Brazil   8813.989806   8710.063290   9928.675897   9151.381732   \n",
       "174      Nigeria   2687.480056   2176.002772   1968.565398   2027.778549   \n",
       "177       Norway  74355.515858  70460.560532  75496.754058  82267.809316   \n",
       "\n",
       "             2019  \n",
       "29    8897.552966  \n",
       "174   2229.858652  \n",
       "177  75719.752897  "
      ]
     },
     "execution_count": 304,
     "metadata": {},
     "output_type": "execute_result"
    }
   ],
   "source": [
    "df = df[['Country Name', '2015', '2016', '2017', '2018', '2019']]\n",
    "df"
   ]
  },
  {
   "cell_type": "code",
   "execution_count": 305,
   "metadata": {},
   "outputs": [],
   "source": [
    "import matplotlib.pyplot as plt\n",
    "\n",
    "linhas = df.values.tolist()\n",
    "dados_pais_ppc = [item[1:] for item in linhas]\n",
    "\n",
    "anos = list(range(2015, 2020))"
   ]
  },
  {
   "cell_type": "markdown",
   "metadata": {},
   "source": [
    "# Brasil"
   ]
  },
  {
   "cell_type": "code",
   "execution_count": 306,
   "metadata": {},
   "outputs": [
    {
     "data": {
      "image/png": "[encoded data removed]",
      "text/plain": [
       "<Figure size 432x288 with 1 Axes>"
      ]
     },
     "metadata": {
      "needs_background": "light"
     },
     "output_type": "display_data"
    }
   ],
   "source": [
    "plt.plot(anos, dados_pais[0], label=\"Brazil\")\n",
    "plt.xticks(anos)\n",
    "plt.xlabel(\"Anos\")\n",
    "plt.ylabel(\"PIB per capita\")\n",
    "plt.legend()\n",
    "plt.show()"
   ]
  },
  {
   "cell_type": "code",
   "execution_count": 307,
   "metadata": {},
   "outputs": [
    {
     "name": "stdout",
     "output_type": "stream",
     "text": [
      "Covariancia: 178.3241725109042, Correlacao: 0.19082130648877024\n"
     ]
    }
   ],
   "source": [
    "import numpy as np\n",
    "\n",
    "# pib per capita\n",
    "pib_brasil = np.array(dados_pais_ppc[0])\n",
    "# insegurança alimentar\n",
    "inseg_brasil = np.array(dados_pais_inseg[0])\n",
    "\n",
    "cov = np.cov(pib, inseg)[0][1]\n",
    "corr = np.corrcoef(pib, inseg)[0][1]\n",
    "\n",
    "print(f'Covariancia: {cov}, Correlacao: {corr}')"
   ]
  },
  {
   "cell_type": "markdown",
   "metadata": {},
   "source": [
    "# Nigeria"
   ]
  },
  {
   "cell_type": "code",
   "execution_count": 308,
   "metadata": {},
   "outputs": [
    {
     "data": {
      "image/png": "[encoded data removed]",
      "text/plain": [
       "<Figure size 432x288 with 1 Axes>"
      ]
     },
     "metadata": {
      "needs_background": "light"
     },
     "output_type": "display_data"
    }
   ],
   "source": [
    "plt.plot(anos, dados_pais[1], label=\"Nigeria\")\n",
    "plt.title(\"PiB per capita de Nigeria\")\n",
    "plt.xticks(anos)\n",
    "plt.legend()\n",
    "plt.show()"
   ]
  },
  {
   "cell_type": "code",
   "execution_count": 309,
   "metadata": {},
   "outputs": [
    {
     "name": "stdout",
     "output_type": "stream",
     "text": [
      "Covariancia: 178.3241725109042, Correlacao: 0.19082130648877024\n"
     ]
    }
   ],
   "source": [
    "\n",
    "# pib per capita\n",
    "pib_nigeria = np.array(dados_pais_ppc[1])\n",
    "# insegurança alimentar\n",
    "inseg_nigeria = np.array(dados_pais_inseg[1])\n",
    "\n",
    "cov = np.cov(pib, inseg)[0][1]\n",
    "corr = np.corrcoef(pib, inseg)[0][1]\n",
    "\n",
    "print(f'Covariancia: {cov}, Correlacao: {corr}')"
   ]
  },
  {
   "cell_type": "markdown",
   "metadata": {},
   "source": [
    "# Noruega"
   ]
  },
  {
   "cell_type": "code",
   "execution_count": 310,
   "metadata": {},
   "outputs": [
    {
     "data": {
      "image/png": "[encoded data removed]",
      "text/plain": [
       "<Figure size 432x288 with 1 Axes>"
      ]
     },
     "metadata": {
      "needs_background": "light"
     },
     "output_type": "display_data"
    }
   ],
   "source": [
    "\n",
    "plt.plot(anos, dados_pais[2], label=\"Norway\", color=\"green\")\n",
    "plt.title(\"Pib per capita Noruega\")\n",
    "plt.xticks(anos)\n",
    "\n",
    "plt.legend()\n",
    "plt.show()"
   ]
  },
  {
   "cell_type": "code",
   "execution_count": 311,
   "metadata": {},
   "outputs": [
    {
     "name": "stdout",
     "output_type": "stream",
     "text": [
      "Covariancia: 178.3241725109042, Correlacao: 0.19082130648877024\n"
     ]
    }
   ],
   "source": [
    "\n",
    "pib_noruega = np.array(dados_pais_ppc[2])\n",
    "inseg_noruega = np.array(dados_pais_inseg[2])\n",
    "\n",
    "# average covariance\n",
    "cov = np.cov(pib, inseg)[0][1]\n",
    "corr = np.corrcoef(pib, inseg)[0][1]\n",
    "\n",
    "print(f'Covariancia: {cov}, Correlacao: {corr}')\n"
   ]
  },
  {
   "cell_type": "markdown",
   "metadata": {},
   "source": [
    "# Figura total\n"
   ]
  },
  {
   "cell_type": "code",
   "execution_count": 312,
   "metadata": {},
   "outputs": [
    {
     "name": "stderr",
     "output_type": "stream",
     "text": [
      "/Library/Frameworks/Python.framework/Versions/3.10/lib/python3.10/site-packages/seaborn/_decorators.py:36: FutureWarning: Pass the following variables as keyword args: x, y. From version 0.12, the only valid positional argument will be `data`, and passing other arguments without an explicit keyword will result in an error or misinterpretation.\n",
      "  warnings.warn(\n",
      "/Library/Frameworks/Python.framework/Versions/3.10/lib/python3.10/site-packages/seaborn/_decorators.py:36: FutureWarning: Pass the following variables as keyword args: x, y. From version 0.12, the only valid positional argument will be `data`, and passing other arguments without an explicit keyword will result in an error or misinterpretation.\n",
      "  warnings.warn(\n",
      "/Library/Frameworks/Python.framework/Versions/3.10/lib/python3.10/site-packages/seaborn/_decorators.py:36: FutureWarning: Pass the following variables as keyword args: x, y. From version 0.12, the only valid positional argument will be `data`, and passing other arguments without an explicit keyword will result in an error or misinterpretation.\n",
      "  warnings.warn(\n"
     ]
    },
    {
     "data": {
      "image/png": "[encoded data removed]",
      "text/plain": [
       "<Figure size 720x432 with 1 Axes>"
      ]
     },
     "metadata": {
      "needs_background": "light"
     },
     "output_type": "display_data"
    }
   ],
   "source": [
    "\n",
    "\n",
    "import seaborn as sns\n",
    "\n",
    "plt.figure(figsize=(10, 6))\n",
    "sns.scatterplot(pib_noruega, inseg_noruega, color=\"green\", label='Noruega')\n",
    "sns.scatterplot(pib_nigeria, inseg_nigeria, color=\"red\", label='Nigeria')\n",
    "sns.scatterplot(pib_brasil, inseg_brasil, color=\"blue\",label='Brasil')\n",
    "\n",
    "plt.xlabel(\"PIB per capita em US$\")\n",
    "plt.ylabel(\"% da populção com insegurança alimentar moderada ou severa\")\n",
    "plt.title(\"PIB per capita vs Insegurança alimentar\")\n",
    "plt.legend()\n",
    "plt.show()"
   ]
  },
  {
   "cell_type": "markdown",
   "metadata": {},
   "source": [
    "# Comparações\n",
    "\n"
   ]
  },
  {
   "cell_type": "code",
   "execution_count": 313,
   "metadata": {},
   "outputs": [
    {
     "data": {
      "image/png": "[encoded data removed]",
      "text/plain": [
       "<Figure size 800x480 with 2 Axes>"
      ]
     },
     "metadata": {
      "needs_background": "light"
     },
     "output_type": "display_data"
    }
   ],
   "source": [
    "#plot pib per capita and insegurança alimentar in 2y axis\n",
    "fig, ax1 = plt.subplots(figsize=(10, 6), dpi=80)\n",
    "\n",
    "\n",
    "ax1.set_xlabel('Anos')\n",
    "ax1.set_ylabel('PIB per capita em US$ (linhas contínuas)')\n",
    "ax1.plot(anos, pib_brasil, color=\"blue\", label=\"Brasil\")\n",
    "ax1.plot(anos, pib_nigeria, color=\"red\", label=\"Nigeria\")\n",
    "ax1.plot(anos, pib_noruega, color=\"green\", label=\"Noruega\")\n",
    "\n",
    "ax1.tick_params(axis='y')\n",
    "\n",
    "ax2 = ax1.twinx()  # instantiate a second axes that shares the same x-axis\n",
    "\n",
    "ax2.set_ylabel('% da populção com insegurança alimentar (linhas tracejadas)')  # we already handled the x-label with ax1\n",
    "ax2.plot(anos, inseg_brasil, color=\"royalblue\", label=\"Brasil\", linestyle='dashed')\n",
    "ax2.plot(anos, inseg_nigeria, color=\"tomato\", label=\"Nigeria\", linestyle='dashed')\n",
    "ax2.plot(anos, inseg_noruega, color=\"lime\", label=\"Noruega\", linestyle='dashed')\n",
    "ax2.tick_params(axis='y')\n",
    "\n",
    "fig.tight_layout()  # otherwise the right y-label is slightly clipped\n",
    "plt.title(\"PIB per capita vs Insegurança alimentar\")\n",
    "\n",
    "plt.legend()\n",
    "plt.show()\n",
    "\n"
   ]
  }
 ],
 "metadata": {
  "kernelspec": {
   "display_name": "Python 3.10.0 64-bit",
   "language": "python",
   "name": "python3"
  },
  "language_info": {
   "codemirror_mode": {
    "name": "ipython",
    "version": 3
   },
   "file_extension": ".py",
   "mimetype": "text/x-python",
   "name": "python",
   "nbconvert_exporter": "python",
   "pygments_lexer": "ipython3",
   "version": "3.10.0"
  },
  "orig_nbformat": 4,
  "vscode": {
   "interpreter": {
    "hash": "aee8b7b246df8f9039afb4144a1f6fd8d2ca17a180786b69acc140d282b71a49"
   }
  }
 },
 "nbformat": 4,
 "nbformat_minor": 2
}
