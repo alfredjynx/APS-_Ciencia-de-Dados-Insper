{
 "cells": [
  {
   "cell_type": "code",
   "execution_count": 10,
   "metadata": {},
   "outputs": [
    {
     "data": {
      "text/html": [
       "<div>\n",
       "<style scoped>\n",
       "    .dataframe tbody tr th:only-of-type {\n",
       "        vertical-align: middle;\n",
       "    }\n",
       "\n",
       "    .dataframe tbody tr th {\n",
       "        vertical-align: top;\n",
       "    }\n",
       "\n",
       "    .dataframe thead th {\n",
       "        text-align: right;\n",
       "    }\n",
       "</style>\n",
       "<table border=\"1\" class=\"dataframe\">\n",
       "  <thead>\n",
       "    <tr style=\"text-align: right;\">\n",
       "      <th></th>\n",
       "      <th>Country Name</th>\n",
       "      <th>Country Code</th>\n",
       "      <th>Series Name</th>\n",
       "      <th>Series Code</th>\n",
       "      <th>1990 [YR1990]</th>\n",
       "      <th>1991 [YR1991]</th>\n",
       "      <th>1992 [YR1992]</th>\n",
       "      <th>1993 [YR1993]</th>\n",
       "      <th>1994 [YR1994]</th>\n",
       "      <th>1995 [YR1995]</th>\n",
       "      <th>...</th>\n",
       "      <th>2011 [YR2011]</th>\n",
       "      <th>2012 [YR2012]</th>\n",
       "      <th>2013 [YR2013]</th>\n",
       "      <th>2014 [YR2014]</th>\n",
       "      <th>2015 [YR2015]</th>\n",
       "      <th>2016 [YR2016]</th>\n",
       "      <th>2017 [YR2017]</th>\n",
       "      <th>2018 [YR2018]</th>\n",
       "      <th>2019 [YR2019]</th>\n",
       "      <th>2020 [YR2020]</th>\n",
       "    </tr>\n",
       "  </thead>\n",
       "  <tbody>\n",
       "    <tr>\n",
       "      <th>0</th>\n",
       "      <td>Brazil</td>\n",
       "      <td>BRA</td>\n",
       "      <td>Prevalence of moderate or severe food insecuri...</td>\n",
       "      <td>SN.ITK.MSFI.ZS</td>\n",
       "      <td>..</td>\n",
       "      <td>..</td>\n",
       "      <td>..</td>\n",
       "      <td>..</td>\n",
       "      <td>..</td>\n",
       "      <td>..</td>\n",
       "      <td>...</td>\n",
       "      <td>..</td>\n",
       "      <td>..</td>\n",
       "      <td>..</td>\n",
       "      <td>..</td>\n",
       "      <td>18.3</td>\n",
       "      <td>21.5</td>\n",
       "      <td>21.8</td>\n",
       "      <td>20.6</td>\n",
       "      <td>23.5</td>\n",
       "      <td>..</td>\n",
       "    </tr>\n",
       "    <tr>\n",
       "      <th>1</th>\n",
       "      <td>Norway</td>\n",
       "      <td>NOR</td>\n",
       "      <td>Prevalence of moderate or severe food insecuri...</td>\n",
       "      <td>SN.ITK.MSFI.ZS</td>\n",
       "      <td>..</td>\n",
       "      <td>..</td>\n",
       "      <td>..</td>\n",
       "      <td>..</td>\n",
       "      <td>..</td>\n",
       "      <td>..</td>\n",
       "      <td>...</td>\n",
       "      <td>..</td>\n",
       "      <td>..</td>\n",
       "      <td>..</td>\n",
       "      <td>..</td>\n",
       "      <td>4.8</td>\n",
       "      <td>5.0</td>\n",
       "      <td>4.8</td>\n",
       "      <td>4.8</td>\n",
       "      <td>4.1</td>\n",
       "      <td>..</td>\n",
       "    </tr>\n",
       "    <tr>\n",
       "      <th>2</th>\n",
       "      <td>Nigeria</td>\n",
       "      <td>NGA</td>\n",
       "      <td>Prevalence of moderate or severe food insecuri...</td>\n",
       "      <td>SN.ITK.MSFI.ZS</td>\n",
       "      <td>..</td>\n",
       "      <td>..</td>\n",
       "      <td>..</td>\n",
       "      <td>..</td>\n",
       "      <td>..</td>\n",
       "      <td>..</td>\n",
       "      <td>...</td>\n",
       "      <td>..</td>\n",
       "      <td>..</td>\n",
       "      <td>..</td>\n",
       "      <td>..</td>\n",
       "      <td>36.5</td>\n",
       "      <td>40.1</td>\n",
       "      <td>43.6</td>\n",
       "      <td>47.1</td>\n",
       "      <td>57.7</td>\n",
       "      <td>..</td>\n",
       "    </tr>\n",
       "  </tbody>\n",
       "</table>\n",
       "<p>3 rows × 35 columns</p>\n",
       "</div>"
      ],
      "text/plain": [
       "  Country Name Country Code  \\\n",
       "0       Brazil          BRA   \n",
       "1       Norway          NOR   \n",
       "2      Nigeria          NGA   \n",
       "\n",
       "                                         Series Name     Series Code  \\\n",
       "0  Prevalence of moderate or severe food insecuri...  SN.ITK.MSFI.ZS   \n",
       "1  Prevalence of moderate or severe food insecuri...  SN.ITK.MSFI.ZS   \n",
       "2  Prevalence of moderate or severe food insecuri...  SN.ITK.MSFI.ZS   \n",
       "\n",
       "  1990 [YR1990] 1991 [YR1991] 1992 [YR1992] 1993 [YR1993] 1994 [YR1994]  \\\n",
       "0            ..            ..            ..            ..            ..   \n",
       "1            ..            ..            ..            ..            ..   \n",
       "2            ..            ..            ..            ..            ..   \n",
       "\n",
       "  1995 [YR1995]  ... 2011 [YR2011] 2012 [YR2012] 2013 [YR2013] 2014 [YR2014]  \\\n",
       "0            ..  ...            ..            ..            ..            ..   \n",
       "1            ..  ...            ..            ..            ..            ..   \n",
       "2            ..  ...            ..            ..            ..            ..   \n",
       "\n",
       "  2015 [YR2015] 2016 [YR2016] 2017 [YR2017] 2018 [YR2018] 2019 [YR2019]  \\\n",
       "0          18.3          21.5          21.8          20.6          23.5   \n",
       "1           4.8           5.0           4.8           4.8           4.1   \n",
       "2          36.5          40.1          43.6          47.1          57.7   \n",
       "\n",
       "  2020 [YR2020]  \n",
       "0            ..  \n",
       "1            ..  \n",
       "2            ..  \n",
       "\n",
       "[3 rows x 35 columns]"
      ]
     },
     "execution_count": 10,
     "metadata": {},
     "output_type": "execute_result"
    }
   ],
   "source": [
    "import pandas as pd\n",
    "\n",
    "# Read the data\n",
    "df = pd.read_csv('data/data.csv')\n",
    "df.head()"
   ]
  },
  {
   "cell_type": "code",
   "execution_count": 48,
   "metadata": {},
   "outputs": [
    {
     "data": {
      "text/plain": [
       "{'BRA': [18.3, 21.5, 21.8, 20.6, 23.5],\n",
       " 'NOR': [4.8, 5.0, 4.8, 4.8, 4.1],\n",
       " 'NGA': [36.5, 40.1, 43.6, 47.1, 57.7]}"
      ]
     },
     "execution_count": 48,
     "metadata": {},
     "output_type": "execute_result"
    }
   ],
   "source": [
    "\n",
    "# plot the data\n",
    "import matplotlib.pyplot as plt\n",
    "\n",
    "di = {\"BRA\": [], \"NOR\" : [], \"NGA\": []}\n",
    "\n",
    "anos = list(range(2015, 2020))\n",
    "\n",
    "for pais in di.keys():\n",
    "    for ano in anos:\n",
    "        valor = df.loc[df['Country Code'] == pais][f'{ano} [YR{ano}]'].values[0] \n",
    "        di[pais].append(valor)\n",
    "\n",
    "di\n",
    "    "
   ]
  },
  {
   "cell_type": "code",
   "execution_count": 54,
   "metadata": {},
   "outputs": [
    {
     "data": {
      "image/png": "[encoded data removed]",
      "text/plain": [
       "<Figure size 432x288 with 1 Axes>"
      ]
     },
     "metadata": {
      "needs_background": "light"
     },
     "output_type": "display_data"
    }
   ],
   "source": [
    "# plot df2\n",
    "plt.plot(anos,di['BRA'], color='red')\n",
    "plt.plot(anos,di['NOR'], color='blue')\n",
    "plt.plot(anos,di['NGA'], color='green')\n",
    "plt.xticks(anos)\n",
    "plt.legend(['Brasil', 'Noruega', 'Nigeria'])\n",
    "plt.show()\n"
   ]
  },
  {
   "cell_type": "code",
   "execution_count": null,
   "metadata": {},
   "outputs": [],
   "source": []
  }
 ],
 "metadata": {
  "kernelspec": {
   "display_name": "Python 3.10.2 64-bit",
   "language": "python",
   "name": "python3"
  },
  "language_info": {
   "codemirror_mode": {
    "name": "ipython",
    "version": 3
   },
   "file_extension": ".py",
   "mimetype": "text/x-python",
   "name": "python",
   "nbconvert_exporter": "python",
   "pygments_lexer": "ipython3",
   "version": "3.10.2"
  },
  "orig_nbformat": 4,
  "vscode": {
   "interpreter": {
    "hash": "a7abaf28b3328bfea71486463e5d36ecdc2f3a9d17ce23354688b88af5e78070"
   }
  }
 },
 "nbformat": 4,
 "nbformat_minor": 2
}
